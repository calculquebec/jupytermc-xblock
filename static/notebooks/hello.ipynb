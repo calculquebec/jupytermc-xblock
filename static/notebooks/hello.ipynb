{
 "cells": [
  {
   "cell_type": "markdown",
   "id": "7d905f76-1d4c-4136-9589-386488974766",
   "metadata": {},
   "source": [
    "## Hi this is your Jupyter XBlock speaking 🪐\n",
    "\n",
    "Welcome to the Jupyter XBlock default notebook 🤗\n",
    "\n",
    "You can check that you are able to run the code below:"
   ]
  },
  {
   "cell_type": "code",
   "execution_count": null,
   "id": "f20c6558-73fd-4cce-809d-1a9a69cfeaf5",
   "metadata": {
    "tags": []
   },
   "outputs": [],
   "source": [
    "import base64\n",
    "encoded = \"SGVsbG8gSnVweXRlciE=\"\n",
    "decoded = base64.b64decode(encoded.encode())\n",
    "print(decoded.decode())"
   ]
  },
  {
   "cell_type": "markdown",
   "id": "cda4d4ff-16a0-49bd-81b9-246f91e47c0c",
   "metadata": {},
   "source": [
    "Now go ahead and import your notebooks from your own Git repository 🚀"
   ]
  }
 ],
 "metadata": {
  "kernelspec": {
   "display_name": "Python 3 (ipykernel)",
   "language": "python",
   "name": "python3"
  },
  "language_info": {
   "codemirror_mode": {
    "name": "ipython",
    "version": 3
   },
   "file_extension": ".py",
   "mimetype": "text/x-python",
   "name": "python",
   "nbconvert_exporter": "python",
   "pygments_lexer": "ipython3",
   "version": "3.10.10"
  }
 },
 "nbformat": 4,
 "nbformat_minor": 5
}
